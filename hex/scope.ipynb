{
 "cells": [
  {
   "cell_type": "markdown",
   "id": "c170006a-72f8-4056-b30e-f72d9b0dd0e1",
   "metadata": {
    "editable": true,
    "slideshow": {
     "slide_type": ""
    },
    "tags": []
   },
   "source": [
    "# Scope"
   ]
  },
  {
   "cell_type": "markdown",
   "id": "6c069215-c89a-478c-b4ce-d4dc7bbaad65",
   "metadata": {},
   "source": [
    "This notebook contains intentional errors.\n",
    "\n",
    "Topics:\n",
    "\n",
    "- Where variables live\n",
    "- Scope\n",
    "\n",
    "Time: 5 minutes"
   ]
  },
  {
   "cell_type": "markdown",
   "id": "9e1d5d26-627e-4dbd-85a7-0af2443fb9c0",
   "metadata": {},
   "source": [
    "## Variables"
   ]
  },
  {
   "cell_type": "markdown",
   "id": "1618edf9-b683-4786-be2a-95cc2a18acd3",
   "metadata": {},
   "source": [
    "When you declare a variable you provide a name for the variable,\n",
    "and a value to ascribe to that name."
   ]
  },
  {
   "cell_type": "code",
   "execution_count": 1,
   "id": "d7cae902-63f8-4db0-b740-be8b3f376f86",
   "metadata": {},
   "outputs": [],
   "source": [
    "x = 3"
   ]
  },
  {
   "cell_type": "markdown",
   "id": "b9190738-7731-4c40-91f2-5cbc5a472baa",
   "metadata": {},
   "source": [
    "The internal state of the kernel now looks something like:\n",
    "\n",
    "| name | value |\n",
    "|---|---|\n",
    "|x|3|"
   ]
  },
  {
   "cell_type": "markdown",
   "id": "b63492db-1c51-46b9-bde6-c229daf6c1cd",
   "metadata": {},
   "source": [
    "Variables are, by default, stored in the _local environment_.\n",
    "\n",
    "Each function gets its own environment,\n",
    "but it can see all the variables defined in \"outer\" enviroments as well.\n",
    "\n",
    "The _scope_ of a variable is the collection of portions of code which can access the variable.\n",
    "A variable that is only available in the local environment is called a _local variable_."
   ]
  },
  {
   "cell_type": "code",
   "execution_count": 2,
   "id": "995028d6-117a-4430-9afe-eb9e6a6edca7",
   "metadata": {},
   "outputs": [],
   "source": [
    "def set_an_isolated_variable():\n",
    "    \"\"\"Define a variable inside this function's environment.\"\"\"\n",
    "    isolated_variable = \"Can't be seen from outside\"\n",
    "\n",
    "def try_to_read_variable():\n",
    "    print(isolated_variable)"
   ]
  },
  {
   "cell_type": "code",
   "execution_count": 4,
   "id": "372f6692-de57-44ad-9c0a-fe0d5e1dd43d",
   "metadata": {},
   "outputs": [
    {
     "ename": "NameError",
     "evalue": "name 'isolated_variable' is not defined",
     "output_type": "error",
     "traceback": [
      "\u001b[0;31m---------------------------------------------------------------------------\u001b[0m",
      "\u001b[0;31mNameError\u001b[0m                                 Traceback (most recent call last)",
      "Cell \u001b[0;32mIn[4], line 2\u001b[0m\n\u001b[1;32m      1\u001b[0m set_an_isolated_variable()\n\u001b[0;32m----> 2\u001b[0m \u001b[43mtry_to_read_variable\u001b[49m\u001b[43m(\u001b[49m\u001b[43m)\u001b[49m\n",
      "Cell \u001b[0;32mIn[2], line 6\u001b[0m, in \u001b[0;36mtry_to_read_variable\u001b[0;34m()\u001b[0m\n\u001b[1;32m      5\u001b[0m \u001b[38;5;28;01mdef\u001b[39;00m \u001b[38;5;21mtry_to_read_variable\u001b[39m():\n\u001b[0;32m----> 6\u001b[0m     \u001b[38;5;28mprint\u001b[39m(\u001b[43misolated_variable\u001b[49m)\n",
      "\u001b[0;31mNameError\u001b[0m: name 'isolated_variable' is not defined"
     ]
    }
   ],
   "source": [
    "# Should error\n",
    "set_an_isolated_variable()\n",
    "try_to_read_variable()"
   ]
  },
  {
   "cell_type": "markdown",
   "id": "9a995b5a-f8c3-4dc9-acf6-a46e67d62891",
   "metadata": {},
   "source": [
    "This lets you re-use names inside functions."
   ]
  },
  {
   "cell_type": "code",
   "execution_count": 10,
   "id": "51344ab0-64bc-4e40-8b68-1db034671a8b",
   "metadata": {},
   "outputs": [],
   "source": [
    "def print_items_in_list(a_list):\n",
    "    # define local variable `entry`\n",
    "    for entry in list:\n",
    "        print(entry)\n",
    "\n",
    "def sum_over_list(a_list):\n",
    "    # define local variable `total`\n",
    "    total = 0\n",
    "    # define local variable `entry`\n",
    "    for entry in list:\n",
    "        total += 0\n",
    "    return total"
   ]
  },
  {
   "cell_type": "markdown",
   "id": "d1ee6705-134b-41c9-93d2-bf71fd21c2a5",
   "metadata": {},
   "source": [
    "But it isn't always what you want.\n",
    "Sometimes you want to pass data to inside a function, but don't want to pass it as an argument.\n",
    "\n",
    "Note: This is an Object Oriented Programming stylistic choice.\n",
    "Functional programming is stricter."
   ]
  },
  {
   "cell_type": "code",
   "execution_count": 5,
   "id": "eabe8033-941e-4b26-95d2-52022d7b9869",
   "metadata": {},
   "outputs": [
    {
     "name": "stdout",
     "output_type": "stream",
     "text": [
      "I can be seen by functions that are themselves defined inside this scope\n"
     ]
    }
   ],
   "source": [
    "# Python lets functions see outside their environment\n",
    "variable_defined_in_top_level = \"I can be seen by functions that are themselves defined inside this scope\"\n",
    "\n",
    "def function_that_shows_it_can_see_upwards():\n",
    "    # This function wasn't given access to this data as an argument\n",
    "    # Instead it's reading it from the outer environment\n",
    "    print(variable_defined_in_top_level)\n",
    "\n",
    "function_that_shows_it_can_see_upwards()"
   ]
  },
  {
   "cell_type": "markdown",
   "id": "5aa1e168-3882-4ff9-ac74-f9f4364ccb08",
   "metadata": {},
   "source": [
    "### Nested environments"
   ]
  },
  {
   "cell_type": "markdown",
   "id": "0521edbe-9c5e-4e4b-95c6-c8139166e012",
   "metadata": {},
   "source": [
    "Functions, in Python, will prefer to make their own variables than overwrite variables from an outer scope."
   ]
  },
  {
   "cell_type": "markdown",
   "id": "e46d50b2-6eca-4eda-8a16-6d3ecbfd8f4b",
   "metadata": {},
   "source": [
    "They can **read** variables from outside environments without issue.\n",
    "But they default to **not overwriting** them."
   ]
  },
  {
   "cell_type": "code",
   "execution_count": 11,
   "id": "a594ebd4-8d1f-4164-bf66-ca82ac7a8a76",
   "metadata": {},
   "outputs": [
    {
     "name": "stdout",
     "output_type": "stream",
     "text": [
      "I've been overwritten!\n"
     ]
    }
   ],
   "source": [
    "def read_from_upwards_but_doesnt_overwrite():\n",
    "    variable_defined_in_top_level = \"Set a new value to a variable that wasn't defined in this environment.\"\n",
    "\n",
    "read_from_upwards_but_doesnt_overwrite()\n",
    "function_that_shows_it_can_see_upwards()"
   ]
  },
  {
   "cell_type": "markdown",
   "id": "3337286a-1f6a-4173-b299-36502bf71fe6",
   "metadata": {},
   "source": [
    "This is because writing to variables outside of your local environment is _extremely_ hard to follow.\n",
    "Some languages don't even allow reading from outside the local environment for this reason, or make special kinds of functions that can do this."
   ]
  },
  {
   "cell_type": "markdown",
   "id": "f19641bd-3ac0-4040-b905-6fc9a7682d88",
   "metadata": {},
   "source": [
    "But what if you really want to overwrite a variable defined outside of the local enviroment?"
   ]
  },
  {
   "cell_type": "markdown",
   "id": "a8ad8aec-62d1-4334-beac-a0be41db91a9",
   "metadata": {},
   "source": [
    "Firstly: Consider not doing so."
   ]
  },
  {
   "cell_type": "markdown",
   "id": "49dad389-3c05-46be-aa94-42781eb55e89",
   "metadata": {},
   "source": [
    "If you really must, then the keyword `global` gives you access to the top-level environment. But it's usually such bad practice that I'm not going to show you an example."
   ]
  },
  {
   "cell_type": "markdown",
   "id": "a474f3e5-641f-4c49-842b-64a1790623e5",
   "metadata": {},
   "source": [
    "## Recap"
   ]
  },
  {
   "cell_type": "markdown",
   "id": "7ba79c2e-b990-4e7c-8313-b97c8570abc5",
   "metadata": {
    "editable": true,
    "slideshow": {
     "slide_type": ""
    },
    "tags": []
   },
   "source": [
    "Variables in Python are defined for their local environment.\n",
    "\n",
    "When you go into a function it creates a new \"inner\" local environment for itself.\n",
    "\n",
    "Local enviroments can see outwards!\n",
    "They can **read** variables defined in outer environments.\n",
    "But they can't **write** to them, instead creating a new local variable."
   ]
  }
 ],
 "metadata": {
  "kernelspec": {
   "display_name": "Python 3 (ipykernel)",
   "language": "python",
   "name": "python3"
  },
  "language_info": {
   "codemirror_mode": {
    "name": "ipython",
    "version": 3
   },
   "file_extension": ".py",
   "mimetype": "text/x-python",
   "name": "python",
   "nbconvert_exporter": "python",
   "pygments_lexer": "ipython3",
   "version": "3.12.1"
  }
 },
 "nbformat": 4,
 "nbformat_minor": 5
}
