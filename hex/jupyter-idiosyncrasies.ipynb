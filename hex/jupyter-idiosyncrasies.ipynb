{
 "cells": [
  {
   "cell_type": "markdown",
   "metadata": {
    "editable": true,
    "slideshow": {
     "slide_type": ""
    },
    "tags": []
   },
   "source": [
    "# Jupyter Idiosyncrasies\n",
    "\n",
    "This notebook contains **intentional errors** to help highlight how issues can arise when running Jupyter."
   ]
  },
  {
   "cell_type": "markdown",
   "metadata": {},
   "source": [
    "Topics:\n",
    "\n",
    "- The kernel\n",
    "- Ways to confuse yourself with Jupyter\n",
    "- Ways to reduce risk\n",
    "\n",
    "Time: 5 minutes"
   ]
  },
  {
   "cell_type": "markdown",
   "metadata": {},
   "source": [
    "# The Kernel\n",
    "\n",
    "A Jupyter notebook works by having a _kernel_ (as in \"important, central part\") running behind the scenes.\n",
    "This works almost identically to opening a terminal and running a particular `python` command.\n",
    "When you select a kernel you choose a particular python executable to keep _always running_ in the back-end.\n",
    "\n",
    "For how long does it run?\n",
    "\n",
    "- It starts up when you run a cell\n",
    "- It ends when you close the notebook\n",
    "- You can force it to restart early\n",
    "- It's independent of any other instances of Python\n",
    "\n",
    "When you run code cells they are sent off to the kernel to process."
   ]
  },
  {
   "cell_type": "markdown",
   "metadata": {},
   "source": [
    "## (Overly) Persistent Data\n",
    "\n",
    "After running the cell below the kernel will have its internal state looking like:\n",
    "\n",
    "|Variable|Value|\n",
    "|---|---|\n",
    "|typo|5|\n",
    "\n",
    "\n",
    "\n"
   ]
  },
  {
   "cell_type": "code",
   "execution_count": 1,
   "metadata": {
    "editable": true,
    "slideshow": {
     "slide_type": ""
    },
    "tags": []
   },
   "outputs": [],
   "source": [
    "# We'll come back and change this cell after running it\n",
    "typo = 5\n",
    "# correction = 5"
   ]
  },
  {
   "cell_type": "code",
   "execution_count": 2,
   "metadata": {},
   "outputs": [
    {
     "data": {
      "text/plain": [
       "5"
      ]
     },
     "execution_count": 2,
     "metadata": {},
     "output_type": "execute_result"
    }
   ],
   "source": [
    "typo"
   ]
  },
  {
   "cell_type": "markdown",
   "metadata": {},
   "source": [
    "Let's go back and tidy that up, and fix the typo while we're at it.\n",
    "We change the first line to `correction=5`, and run things again.\n",
    "Now the state of the kernel is:\n",
    "\n",
    "|Variable|Value|\n",
    "|---|---|\n",
    "|typo|`5`|\n",
    "|correction|`5`|\n",
    "\n",
    "We never told the kernel that that `typo` variable assignment was a mistake!"
   ]
  },
  {
   "cell_type": "markdown",
   "metadata": {},
   "source": [
    "### Isn't this fine?"
   ]
  },
  {
   "cell_type": "markdown",
   "metadata": {},
   "source": [
    "Currently everything that \"matters\" inside our state (`correction`) is set to the correct values.\n",
    "The only problem is if we make the same typo again..."
   ]
  },
  {
   "cell_type": "code",
   "execution_count": 7,
   "metadata": {},
   "outputs": [
    {
     "ename": "NameError",
     "evalue": "name 'a_novel_typo' is not defined",
     "output_type": "error",
     "traceback": [
      "\u001b[0;31m---------------------------------------------------------------------------\u001b[0m",
      "\u001b[0;31mNameError\u001b[0m                                 Traceback (most recent call last)",
      "Cell \u001b[0;32mIn[7], line 3\u001b[0m\n\u001b[1;32m      1\u001b[0m \u001b[38;5;66;03m# Should error\u001b[39;00m\n\u001b[1;32m      2\u001b[0m correction \u001b[38;5;241m=\u001b[39m \u001b[38;5;241m12\u001b[39m\n\u001b[0;32m----> 3\u001b[0m \u001b[38;5;28;01mfor\u001b[39;00m x \u001b[38;5;129;01min\u001b[39;00m \u001b[38;5;28mrange\u001b[39m(\u001b[43ma_novel_typo\u001b[49m):\n\u001b[1;32m      4\u001b[0m     \u001b[38;5;28mprint\u001b[39m(x)\n",
      "\u001b[0;31mNameError\u001b[0m: name 'a_novel_typo' is not defined"
     ]
    }
   ],
   "source": [
    "# Should error\n",
    "correction = 12\n",
    "for x in range(a_novel_typo):\n",
    "    print(x)"
   ]
  },
  {
   "cell_type": "markdown",
   "metadata": {},
   "source": [
    "If we hadn't made that first `typo` then Python will notice something is amiss because you're trying to use a variable that hasn't been given a value."
   ]
  },
  {
   "cell_type": "code",
   "execution_count": 8,
   "metadata": {},
   "outputs": [
    {
     "name": "stdout",
     "output_type": "stream",
     "text": [
      "0\n",
      "1\n",
      "2\n",
      "3\n",
      "4\n"
     ]
    }
   ],
   "source": [
    "correction = 12\n",
    "for x in range(typo):\n",
    "    print(x)"
   ]
  },
  {
   "cell_type": "markdown",
   "metadata": {
    "editable": true,
    "slideshow": {
     "slide_type": ""
    },
    "tags": []
   },
   "source": [
    "It's rather contrived when the variables are called `typo` and `correction`,\n",
    "but when they're called `centre_of_mass` and `center_of_mass` it's far harder to spot."
   ]
  },
  {
   "cell_type": "markdown",
   "metadata": {},
   "source": [
    "This can only happen if you make a typo twice.\n",
    "But the longer you spend on a notebook without restarting the kernel then more likely you are to make this sort of error.\n",
    "\n",
    "What's more, python can't spot that we didn't mean to do this.\n",
    "It just sees the code inside the cells we send to it."
   ]
  },
  {
   "cell_type": "markdown",
   "metadata": {},
   "source": [
    "## Partially evaluated cells\n",
    "\n",
    "When the Python kernel encounters an error it \"throw\"s the error to Jupyter, which then displays it to the user.\n",
    "Depending on the type of error two different things could have happened."
   ]
  },
  {
   "cell_type": "code",
   "execution_count": 4,
   "metadata": {},
   "outputs": [
    {
     "ename": "TypeError",
     "evalue": "'int' object is not subscriptable",
     "output_type": "error",
     "traceback": [
      "\u001b[0;31m---------------------------------------------------------------------------\u001b[0m",
      "\u001b[0;31mTypeError\u001b[0m                                 Traceback (most recent call last)",
      "Cell \u001b[0;32mIn[4], line 3\u001b[0m\n\u001b[1;32m      1\u001b[0m \u001b[38;5;66;03m# Will error\u001b[39;00m\n\u001b[1;32m      2\u001b[0m integer_ten \u001b[38;5;241m=\u001b[39m \u001b[38;5;241m10\u001b[39m\n\u001b[0;32m----> 3\u001b[0m never_assigned_variable \u001b[38;5;241m=\u001b[39m \u001b[43minteger_ten\u001b[49m\u001b[43m[\u001b[49m\u001b[38;5;241;43m2\u001b[39;49m\u001b[43m]\u001b[49m \u001b[38;5;66;03m#<- this doesn't make sense\u001b[39;00m\n",
      "\u001b[0;31mTypeError\u001b[0m: 'int' object is not subscriptable"
     ]
    }
   ],
   "source": [
    "# Will error\n",
    "# Run the next cell before fixing this one\n",
    "integer_ten = 10\n",
    "never_assigned_variable = integer_ten[2] #<- this doesn't make sense"
   ]
  },
  {
   "cell_type": "code",
   "execution_count": 5,
   "metadata": {},
   "outputs": [
    {
     "data": {
      "text/plain": [
       "10"
      ]
     },
     "execution_count": 5,
     "metadata": {},
     "output_type": "execute_result"
    }
   ],
   "source": [
    "integer_ten"
   ]
  },
  {
   "cell_type": "markdown",
   "metadata": {},
   "source": [
    "What about this one?"
   ]
  },
  {
   "cell_type": "code",
   "execution_count": 38,
   "metadata": {},
   "outputs": [
    {
     "ename": "SyntaxError",
     "evalue": "invalid syntax (786464068.py, line 2)",
     "output_type": "error",
     "traceback": [
      "\u001b[0;36m  Cell \u001b[0;32mIn[38], line 2\u001b[0;36m\u001b[0m\n\u001b[0;31m    fro y in range(x): #<- intentional syntax error\u001b[0m\n\u001b[0m        ^\u001b[0m\n\u001b[0;31mSyntaxError\u001b[0m\u001b[0;31m:\u001b[0m invalid syntax\n"
     ]
    }
   ],
   "source": [
    "# Will error\n",
    "# Run the next cell before fixing this one\n",
    "x = 5\n",
    "fro y in range(x): #<- intentional syntax error\n",
    "    print(y)"
   ]
  },
  {
   "cell_type": "markdown",
   "metadata": {},
   "source": [
    "So what value does `x` now have?"
   ]
  },
  {
   "cell_type": "code",
   "execution_count": 39,
   "metadata": {},
   "outputs": [
    {
     "data": {
      "text/plain": [
       "5"
      ]
     },
     "execution_count": 39,
     "metadata": {},
     "output_type": "execute_result"
    }
   ],
   "source": [
    "x"
   ]
  },
  {
   "cell_type": "markdown",
   "metadata": {},
   "source": [
    "### Wait... why does `x` have this value?"
   ]
  },
  {
   "cell_type": "markdown",
   "metadata": {},
   "source": [
    "\n",
    "Values created as part of a loop _are still available afterwards_.\n",
    "It's easy to forget that these \"temporary\" variables (as they might be in other contexts and languages)\n",
    "are not so temporary in e.g. Python `for` expressions.\n",
    "Partly this is just down to the way Python works,\n",
    "but when code is a long way away, or from a cell run a long time ago,\n",
    "or when the order you run the cells matters,\n",
    "then it can cause confusion."
   ]
  },
  {
   "cell_type": "markdown",
   "metadata": {},
   "source": [
    "## What do these problems have in common?"
   ]
  },
  {
   "cell_type": "markdown",
   "metadata": {},
   "source": [
    "They are all problems that arise from the internal state of the Python kernel being obscured to the user.\n",
    "Being able to chop code into blocks (cells) and then run in arbitrary order\n",
    "is very powerful... but allows you to shoot yourself in the foot."
   ]
  },
  {
   "cell_type": "markdown",
   "metadata": {},
   "source": [
    "## So how do we deal with these problems?\n",
    "\n",
    "Before sending a notebook to anyone else:\n",
    "\n",
    "1. Restart the kernel\n",
    "2. Click \"Run All\"\n",
    "\n",
    "This will eliminate large classes of errors.\n",
    "\n",
    "Don't send anyone a notebook without checking it can be run from top to bottom with no human prompting."
   ]
  },
  {
   "cell_type": "markdown",
   "metadata": {},
   "source": [
    "## Magic commands"
   ]
  },
  {
   "cell_type": "markdown",
   "metadata": {},
   "source": [
    "Jupyter (and iPython, which sits between Jupyter and Python)\n",
    "add in some special commands that aren't in usual Python.\n",
    "These start with `%`, or their more dangerous cousin `!`.\n",
    "\n",
    "For example:"
   ]
  },
  {
   "cell_type": "code",
   "execution_count": null,
   "metadata": {},
   "outputs": [],
   "source": [
    "\n",
    "%pip install pandas"
   ]
  },
  {
   "cell_type": "markdown",
   "metadata": {},
   "source": [
    "The above code isn't Python... but it is understood by the iPython interpreter that Jupyter uses."
   ]
  },
  {
   "cell_type": "markdown",
   "metadata": {
    "editable": true,
    "slideshow": {
     "slide_type": ""
    },
    "tags": []
   },
   "source": [
    "Magic commands can do things from configure your Jupyter environment (safe) to run arbitrary code on someone's computer (unhelpful).\n",
    "In general it's best not to include them at all,\n",
    "and just phrase the desired effect as a request to the user.\n",
    "The sole exception I know of to this is when using Google Colab (or anything like it),\n",
    "where you don't have any other means of requesting a `pip` install."
   ]
  },
  {
   "cell_type": "markdown",
   "metadata": {
    "editable": true,
    "slideshow": {
     "slide_type": ""
    },
    "tags": []
   },
   "source": [
    "## Recap\n",
    "\n",
    "Python is powerful.\n",
    "Jupyter is also powerful.\n",
    "With great power comes the ability to shoot yourself in the foot.\n",
    "\n",
    "Before sending anyone a notebook, press \"restart and run all\" to check it will work for them.\n",
    "\n",
    "**This one doesn't**, but that's for teaching purposes."
   ]
  }
 ],
 "metadata": {
  "kernelspec": {
   "display_name": "Python 3 (ipykernel)",
   "language": "python",
   "name": "python3"
  },
  "language_info": {
   "codemirror_mode": {
    "name": "ipython",
    "version": 3
   },
   "file_extension": ".py",
   "mimetype": "text/x-python",
   "name": "python",
   "nbconvert_exporter": "python",
   "pygments_lexer": "ipython3",
   "version": "3.12.1"
  }
 },
 "nbformat": 4,
 "nbformat_minor": 4
}
