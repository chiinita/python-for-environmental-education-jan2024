{
 "cells": [
  {
   "cell_type": "markdown",
   "metadata": {},
   "source": [
    "# Literate Code\n",
    "\n"
   ]
  },
  {
   "cell_type": "markdown",
   "metadata": {},
   "source": [
    "Topics:\n",
    "\n",
    "- Literate Code\n",
    "- Markdown\n",
    "- Notebook Layout\n",
    "- Accessibility"
   ]
  },
  {
   "cell_type": "markdown",
   "metadata": {},
   "source": [
    "## Literate Code\n",
    "\n",
    "\"Literate Code\" is a style of writing code that also includes a full explanation of that code as part of the same file.\n",
    "The code we have been using today is Literate Code: We have used the Markdown cells inside the notebooks to describe what the code in the surrounding code cells does.\n",
    "Even if you aren't using Jupyter, Python lets you write comments (and strings) almost anywhere in the document."
   ]
  },
  {
   "cell_type": "markdown",
   "metadata": {},
   "source": [
    "**Code is read more often than it is written.**\n",
    "That's true in all software engineering, but especially true in education and communication contexts.\n",
    "Do everything you can to help your readers understand your intent with the code."
   ]
  },
  {
   "cell_type": "markdown",
   "metadata": {},
   "source": [
    "### The zen of Python"
   ]
  },
  {
   "cell_type": "markdown",
   "metadata": {},
   "source": [
    "It's codified as [Python Enhancement Proposal (PEP) 20](https://peps.python.org/pep-0020/).\n",
    "Here are three lines I want to highlight:\n",
    "\n",
    "1. Readability counts.\n",
    "2. There should be one-- and preferably only one --obvious way to do it.\n",
    "3. If the implementation is hard to explain, it's a bad idea.\n",
    "\n",
    "If you want to see examples of this done badly, look up \"code obfuscation\".\n",
    "It can be really helpful to see the extreme examples!\n",
    "A lot of poor writing is simply poor habits."
   ]
  },
  {
   "cell_type": "markdown",
   "metadata": {},
   "source": [
    "### How to name things"
   ]
  },
  {
   "cell_type": "markdown",
   "metadata": {},
   "source": [
    "Yes, it really is that important."
   ]
  },
  {
   "cell_type": "markdown",
   "metadata": {},
   "source": [
    "\n",
    "I suggest you begin with something overly verbose.\n",
    "\n",
    "```python\n",
    "def a_function_to_add_two_numbers_together(first_number, second_number):\n",
    "    return first_number + second_number\n",
    "```\n",
    "\n",
    "This should make it very clear what this function does, however it's too long a name for what we need to communicate.\n",
    "\n",
    "1. We already know it's a function\n",
    "2. We know it takes two arguments\n",
    "3. Redundancy in specifying this deals with numbers\n",
    "\n",
    "This leads us to:\n",
    "\n",
    "```python\n",
    "def add_together(first_number, second_number):\n",
    "    return first_number + second_number\n",
    "```\n",
    "\n",
    "This is short, and clear, and so we could stop there or go further:\n",
    "\n",
    "1. The word \"together\" doesn't add much\n",
    "2. The arguments are already ordered _and_ it doesn't matter that they're ordered\n",
    "4. Algebra tends to use single-letter names\n",
    "\n",
    "```python\n",
    "def add(a, b):\n",
    "    return a + b\n",
    "```\n"
   ]
  },
  {
   "cell_type": "markdown",
   "metadata": {},
   "source": [
    "If you're writing software-grade code then you would also include _type hints_, which are suggestions as to what the function is expecting as arguments.\n",
    "You don't need to do this, but you might see it in the modules that you use.\n",
    "\n",
    "You would also write a docstring, which is the text immediately after the function definition,\n",
    "and it's what shows up when you shift+tab on an object inside Jupyter."
   ]
  },
  {
   "cell_type": "code",
   "execution_count": 4,
   "metadata": {},
   "outputs": [],
   "source": [
    "# This is essentially identical to the previous definition\n",
    "# We're just suggesting to any user that `a` and `b` are expected to be things that work like `int`s\n",
    "def add(a: int, b: int):\n",
    "    \"\"\"Add a and b together.\"\"\"\n",
    "    return a + b"
   ]
  },
  {
   "cell_type": "code",
   "execution_count": null,
   "metadata": {},
   "outputs": [],
   "source": [
    "# Check the docstring\n",
    "add"
   ]
  },
  {
   "cell_type": "markdown",
   "metadata": {},
   "source": [
    "### Flexibility and legibility"
   ]
  },
  {
   "cell_type": "markdown",
   "metadata": {},
   "source": [
    "Python is extremely permissive in how you write code.\n",
    "This allows you to write a lot of code that runs perfectly well and is miserable to read."
   ]
  },
  {
   "cell_type": "code",
   "execution_count": 5,
   "metadata": {},
   "outputs": [
    {
     "data": {
      "text/plain": [
       "'Still works though.'"
      ]
     },
     "execution_count": 5,
     "metadata": {},
     "output_type": "execute_result"
    }
   ],
   "source": [
    "def horribly_made_function():\n",
    "                     \"\"\"Doesn't do anything. Note the horrible amount of indentation.\"\"\"\n",
    "                     return \"Still works though.\"\n",
    "\n",
    "horribly_made_function()"
   ]
  },
  {
   "cell_type": "markdown",
   "metadata": {},
   "source": [
    "Just because you can do something, doesn't mean you should.\n",
    "Check out [PEP 8](https://peps.python.org/pep-0008/) for a style guide or use a _linter_."
   ]
  },
  {
   "cell_type": "markdown",
   "metadata": {},
   "source": [
    "A linter is something that checks your code for you.\n",
    "Because of Python's design decisions (e.g. Duck Typing) there are limits to what can be checked, but style is one of them."
   ]
  },
  {
   "cell_type": "markdown",
   "metadata": {},
   "source": [
    "## Markdown"
   ]
  },
  {
   "cell_type": "markdown",
   "metadata": {},
   "source": [
    "Markdown is a type of something more general called _markup_.\n",
    "Markup is where you write non-plain-text information as special text into a plain text file.\n",
    "It's the \"M\" in HTML; most of a webpage is sent to you as plain text, and your web browser interprets that markup to give you something easier on the eyes.\n",
    "\n",
    "Note that you need an empty blank line to get a paragraph break in markdown.\n",
    "This lets you break up (what will become) paragraphs when writing,\n",
    "which also really helps when using tools like `git` to show changes in documents."
   ]
  },
  {
   "cell_type": "markdown",
   "metadata": {},
   "source": [
    "Things we have already shown you include:\n",
    "\n",
    "- Headings\n",
    "  - `# heading`\n",
    "  - `### subheading with a depth of 3`\n",
    "- Emphasis\n",
    "  - `_italics_` or `**bold**`\n",
    "- Lists\n",
    "  - Enumerated (using numbers, e.g. `1 `)\n",
    "  - Plain (using `- `)\n",
    "- Links\n",
    "  - `[display text](url)`\n",
    "- Tables\n",
    "- Text that looks like code\n",
    "  - Surround text inside a sentence with single-backticks \\`\n",
    "  - Make a display code-block with triple backticks \\`\\`\\`"
   ]
  },
  {
   "cell_type": "markdown",
   "metadata": {},
   "source": [
    "But here are some other examples. Remember you can double-click on a markdown cell to see the original markdown."
   ]
  },
  {
   "cell_type": "markdown",
   "metadata": {},
   "source": [
    "Equations embedded inside text: $e^{i\\pi} + 1 = 0$ (uses KaTeX, which is a flavour of TeX like LaTeX)"
   ]
  },
  {
   "cell_type": "markdown",
   "metadata": {},
   "source": [
    "Or on their own lines:\n",
    "\n",
    "\\begin{equation}\n",
    "e^x=\\sum_{i=0}^\\infty \\frac{1}{i!}x^i\n",
    "\\end{equation}"
   ]
  },
  {
   "cell_type": "markdown",
   "metadata": {},
   "source": [
    "You can even put in html and it will be rendered appropriately."
   ]
  },
  {
   "cell_type": "markdown",
   "metadata": {},
   "source": [
    "## Notebook Layout"
   ]
  },
  {
   "cell_type": "markdown",
   "metadata": {},
   "source": [
    "#### Openings\n",
    "\n",
    "Open with markdown, describing what the notebook does when run (if data science code)\n",
    "or describing what the notebook covers (for teaching).\n",
    "\n",
    "#### Imports\n",
    "\n",
    "All imports go at the top.\n",
    "\n",
    "- Sometimes freshly installed packages require the kernel to be restarted before they can be used\n",
    "- Imports at the start mean it's easy to tell in advance what you're going to need"
   ]
  },
  {
   "cell_type": "markdown",
   "metadata": {},
   "source": [
    "#### Running the code"
   ]
  },
  {
   "cell_type": "markdown",
   "metadata": {},
   "source": [
    "Notebooks should produce a sensible result if you open them up and press \"run all cells\". Unless you're making a notebook explicitly about errors (as we did earlier)."
   ]
  },
  {
   "cell_type": "markdown",
   "metadata": {},
   "source": [
    "#### Debugging\n",
    "\n",
    "Often, when writing code, we output extra information to make sure things are working.\n",
    "Most of this doesn't need to be seen by other people.\n",
    "Those bits that do need to be seen by other people should be properly highlighted as proof that things are working well."
   ]
  },
  {
   "cell_type": "markdown",
   "metadata": {},
   "source": [
    "## Accessibility\n",
    "\n",
    "### Tools"
   ]
  },
  {
   "cell_type": "markdown",
   "metadata": {},
   "source": [
    "One of the greatest tools in accessibility for notebooks is their browser-compatibility.\n",
    "Browsers have zoom, customisable CSS, screen-readers, text-highlighting, and more.\n",
    "There are addons for Jupyter that add extra features such as voice control."
   ]
  },
  {
   "cell_type": "markdown",
   "metadata": {},
   "source": [
    "If you're curious about how a webpage measures up against accessibility guidance there are browser extensions like [WAVE](https://addons.mozilla.org/en-GB/firefox/addon/wave-accessibility-tool/). Use this on webpages exported from Jupyter, not on Jupyter Lab itself."
   ]
  },
  {
   "cell_type": "markdown",
   "metadata": {},
   "source": [
    "### Structure"
   ]
  },
  {
   "cell_type": "markdown",
   "metadata": {},
   "source": [
    "\n",
    "General teaching advice is always applicable.\n",
    "One I always appreciate for this shorter notebooks is:\n",
    "\n",
    "1. Say what you're going to teach\n",
    "2. Teach it\n",
    "3. Say what it was you taught\n",
    "\n",
    "There's a wealth of advice on how to write teaching material for neurodivergent students,\n",
    "and frankly it's good advice for everyone.\n",
    "This includes:\n",
    "\n",
    "1. Add time estimates for how long sections will take\n",
    "2. Explain why you are covering a topic\n"
   ]
  },
  {
   "cell_type": "markdown",
   "metadata": {},
   "source": [
    "### Text\n",
    "\n",
    "\n",
    "- Make sure the foreground and background colours have sufficient contrast\n",
    "- Using text decorations sparingly and consistently\n"
   ]
  },
  {
   "cell_type": "markdown",
   "metadata": {},
   "source": [
    "\n",
    "\n",
    "### Code\n",
    "\n",
    "Don't expect people to run code without understanding why they are running it.\n",
    "\n",
    "Python code is designed to be read aloud.\n",
    "It should feel somewhere between a flow-chart and recipe."
   ]
  },
  {
   "cell_type": "markdown",
   "metadata": {},
   "source": [
    "### Side Effects\n",
    "\n",
    "\n",
    "A _side effect_ is any impact your code has on anything outside the local environment.\n",
    "Python lets you read from outside the local environment by default, but even this can be confusing unless managed well.\n"
   ]
  },
  {
   "cell_type": "code",
   "execution_count": 2,
   "metadata": {},
   "outputs": [],
   "source": [
    "# TIMES_GREETED is defined outside of the function\n",
    "times_greeted = 0\n",
    "\n",
    "def greet(name):\n",
    "    # To access something outside of the function (that isn't passed as an argument) we need to be explicit using `global`\n",
    "    global times_greeted\n",
    "    times_greeted += 1\n",
    "    if times_greeted < 5:\n",
    "        return f\"Hello {name}\"\n",
    "    else:\n",
    "        return \"I'm socially over-stimulated and need a lie-down.\"\n"
   ]
  },
  {
   "cell_type": "markdown",
   "metadata": {},
   "source": [
    "\n",
    "If you then run this next cell enough times the returned value changes.\n"
   ]
  },
  {
   "cell_type": "code",
   "execution_count": 8,
   "metadata": {},
   "outputs": [
    {
     "data": {
      "text/plain": [
       "\"I'm socially over-stimulated and need a lie-down.\""
      ]
     },
     "execution_count": 8,
     "metadata": {},
     "output_type": "execute_result"
    }
   ],
   "source": [
    "greet(\"Hex\")"
   ]
  },
  {
   "cell_type": "markdown",
   "metadata": {},
   "source": [
    "Reading code already requires you to keep a lot in your head at once.\n",
    "Reading code with side effects requires you to keep a great deal more in your head at once."
   ]
  },
  {
   "cell_type": "markdown",
   "metadata": {},
   "source": [
    "As much as possible of all the relevant information should be on screen when you need it.\n",
    "If you want to use variables to indicate settings that you (or users can change), use the convention of:\n",
    "\n",
    "- Have the variable name in full uppercase\n",
    "- Put the variable declaration right at the top and don't write to it with code\n",
    "\n",
    "Variables like this are referred to as _constants_."
   ]
  },
  {
   "cell_type": "markdown",
   "metadata": {},
   "source": [
    "### Images\n",
    "\n",
    "Use images to convey trends.\n",
    "If it's vital for readers to know the values for a particular data point, use a table.\n",
    "\n",
    "We recommend using the [Seaborn](https://seaborn.pydata.org/) module for rendering data. It makes it very easy to generate the right kind of plot from a dataframe, making very sensible (and customizable) decisions to get there."
   ]
  },
  {
   "cell_type": "markdown",
   "metadata": {},
   "source": [
    "\n",
    "### Accordions\n",
    "\n",
    "Accordions are the arrows next to section titles on this page.\n",
    "They allow you to expand and contract sections of the notebook.\n",
    "This helps people quickly find what they want to know,\n",
    "and is less intimidating (notebooks can get very long,\n",
    "since every cell has both the code and the output)."
   ]
  },
  {
   "cell_type": "markdown",
   "metadata": {},
   "source": [
    "## The zen of Python"
   ]
  },
  {
   "cell_type": "code",
   "execution_count": 7,
   "metadata": {},
   "outputs": [],
   "source": [
    "# It's included as an Easter-egg by the developers of Python\n",
    "import this\n",
    "\n",
    "# What happens when you run it a second time? Why?"
   ]
  },
  {
   "cell_type": "markdown",
   "metadata": {},
   "source": [
    "## Recap"
   ]
  }
 ],
 "metadata": {
  "kernelspec": {
   "display_name": "Python 3 (ipykernel)",
   "language": "python",
   "name": "python3"
  },
  "language_info": {
   "codemirror_mode": {
    "name": "ipython",
    "version": 3
   },
   "file_extension": ".py",
   "mimetype": "text/x-python",
   "name": "python",
   "nbconvert_exporter": "python",
   "pygments_lexer": "ipython3",
   "version": "3.10.13"
  }
 },
 "nbformat": 4,
 "nbformat_minor": 4
}
