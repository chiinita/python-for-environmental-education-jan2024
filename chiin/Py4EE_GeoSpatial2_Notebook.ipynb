{
 "cells": [
  {
   "cell_type": "markdown",
   "id": "7e33dac3-ba16-44d7-a299-a2a21e7c5e24",
   "metadata": {},
   "source": [
    "# GeoSpatial 2: satellite image processing\n",
    "---"
   ]
  },
  {
   "cell_type": "markdown",
   "id": "c01b22f6-aef3-472a-870c-3bd766a9c616",
   "metadata": {},
   "source": [
    "Required packages:\n",
    "* numpy\n",
    "* pillow/PIL\n",
    "* matplotlib"
   ]
  },
  {
   "cell_type": "markdown",
   "id": "a6110f7b-492f-4980-a364-fbfd7dd1bdd5",
   "metadata": {},
   "source": [
    "---"
   ]
  },
  {
   "cell_type": "markdown",
   "id": "265b7e00-3a64-4b66-b045-c5ab69fedaaa",
   "metadata": {},
   "source": [
    "**Which example of Deforestation are we examining?**    \n",
    "Change from 1984 to 2022 in a 60 square km region of interest (ROI) originally covered mainly by tropical dry forest at the Brazil-Bolivia border within the Amazon River basin. \n",
    "    \n",
    "More context available from NASA's \"Mapping the Amazon\" series, which happens to feature the wider ROI -> https://earthobservatory.nasa.gov/images/145649/mapping-the-amazon"
   ]
  },
  {
   "cell_type": "markdown",
   "id": "0d2e01c1-179e-4038-b11c-37cd748309e5",
   "metadata": {},
   "source": [
    "**What scientific approaches are we taking?**    \n",
    "Satellite image processing and classification (hand-crafted/experimental)"
   ]
  },
  {
   "cell_type": "markdown",
   "id": "8353b92d-bd60-41ea-bb6e-f85dcda6d237",
   "metadata": {},
   "source": [
    "**What outputs will we develop?**       \n",
    "Spectral vegetation indices (NDVI) and thematic maps (Land Cover)."
   ]
  },
  {
   "cell_type": "markdown",
   "id": "84bfe23a-1e1c-4064-8bde-6bf54fafa097",
   "metadata": {},
   "source": [
    "**What will our outputs tell us?**    \n",
    "Help quantitatively detect and measure Land Cover and Land Use (LCLU) change in this ROI, particularly the clearance of original tropical dry forest since 1984."
   ]
  },
  {
   "cell_type": "markdown",
   "id": "af430f43-f274-4451-b605-eb03631fbe83",
   "metadata": {},
   "source": [
    "**Beyond the well-known Eco impacts of Deforestation, what makes this example significant?**      \n",
    "Exemplifies the contrasting historical LCLU change in a biome as a consequence of country boundaries and local differences, e.g. in Forest Governance, Stewardship etc.      \n",
    "Possible view of the ROI at ground-level -> https://andrebaertschi.photoshelter.com/image/I0000Nax5X69EnEA\n",
    "\n",
    "Can highlight issues of REDD project efficacy (Reducing Emissions From Deforestation and Forest Degradation) and carbon offsetting generally. The Noel Kempff Mercado National Park, which takes up a sizeable portion in the bottom-right of the ROI, is part of one of the world's first large-scale REDD projects, receiving investment from 3 energy companies in exchange for rights to apparently 51% of carbon credits generated, and had been accused of significant flaws -> https://www.theguardian.com/environment/2010/mar/11/greenwash-noel-kempff-forests"
   ]
  },
  {
   "cell_type": "markdown",
   "id": "7830686e-ad7c-4512-8c9a-d88561100668",
   "metadata": {},
   "source": [
    "\n",
    "**Data Source - Satellite Imagery**\n",
    "* 4x files:\n",
    "    * `ROI_1984_nirband4.tif` - clip of Landsat 5 TM Scene 230/69, Near Infrared Band (B4) (Aug 13th, 1984)\n",
    "    * `ROI_1984_redband3.tif` - clip of Landsat 5 TM Scene 230/69, Red Band (B3) (Aug 13th, 1984)\n",
    "    * `ROI_2022_nirband5.tif` - clip of Landsat 9 OLI Scene 230/69, Near Infrared Band (B5)(Aug 14th, 2022)\n",
    "    * `ROI_2022_redband4.tif` - clip of Landsat 9 OLI Scene 230/69, Red Band (B4) (Aug 14th, 2022)\n",
    "* Org: The US Geological Survey (USGS)\n",
    "* Resource: LandsatLook, a portal that allows rapid online viewing and access to the USGS Landsat Collection 2 data -> https://landsatlook.usgs.gov/\n"
   ]
  },
  {
   "cell_type": "markdown",
   "id": "8d4b2def-0e5f-4464-abe8-29d1a423a59a",
   "metadata": {},
   "source": [
    "**Extra info on Spectral Remote Sensing**\n",
    "* National Ecological Observatory Network (NEON), \"Mapping the Invisible - Intro to Spectral Remote Sensing\" (short video) -> https://youtu.be/3iaFzafWJQE\n",
    "* NASA Remote Sensing primer -> https://www.earthdata.nasa.gov/learn/backgrounders/remote-sensing \n",
    "* NASA Applied Remote Sensing Training Program (ARSET), Remote Sensing Fundamentals -> https://appliedsciences.nasa.gov/sites/default/files/2022-11/Fundamentals_of_RS_Edited_SC.pdf"
   ]
  },
  {
   "cell_type": "markdown",
   "id": "171ea3e9-fe0f-4978-b664-f3240e0259d4",
   "metadata": {},
   "source": [
    "## A. Set-up Jupyter Notebook & satellite data"
   ]
  },
  {
   "cell_type": "markdown",
   "id": "0d1ddf7b-5a45-4b98-8b8e-74708f4fed74",
   "metadata": {
    "tags": []
   },
   "source": [
    ">**A0.** Import required packages and submodule.\n",
    ">```\n",
    "from PIL import Image\n",
    "import numpy as np\n",
    "import matplotlib.pyplot as plt\n",
    "```"
   ]
  },
  {
   "cell_type": "code",
   "execution_count": null,
   "id": "e7a8d78e-b826-465a-9132-8226bcd1e461",
   "metadata": {
    "tags": []
   },
   "outputs": [],
   "source": []
  },
  {
   "cell_type": "markdown",
   "id": "e9e5edc8-8e0d-4174-a7f5-9b31fb72cf68",
   "metadata": {},
   "source": [
    ">**A1.** (OPTIONAL) For autocompletion, or if it's not working, try running this magic command.\n",
    "```\n",
    "%config Completer.use_jedi = False\n",
    "```"
   ]
  },
  {
   "cell_type": "code",
   "execution_count": null,
   "id": "80d8442b-34cb-4676-b55f-eaf4bddff218",
   "metadata": {
    "tags": []
   },
   "outputs": [],
   "source": []
  },
  {
   "cell_type": "markdown",
   "id": "6c6dd475-9bb9-4771-abb2-5b05ee61f8f3",
   "metadata": {
    "tags": []
   },
   "source": [
    ">**A2.** Read-in the 4 satellite image files and assign each to a variable of the same name.\n",
    ">\n",
    ">```\n",
    "ROI_1984_nirband4 = np.asarray(Image.open(\"ROI_1984_nirband4.tif\"), dtype=np.float32)\n",
    "ROI_1984_redband3 = np.asarray(Image.open(\"ROI_1984_redband3.tif\"), dtype=np.float32)\n",
    "ROI_2022_nirband5 = np.asarray(Image.open(\"ROI_2022_nirband5.tif\"), dtype=np.float32)\n",
    "ROI_2022_redband4 = np.asarray(Image.open(\"ROI_2022_redband4.tif\"), dtype=np.float32)\n",
    "```"
   ]
  },
  {
   "cell_type": "code",
   "execution_count": null,
   "id": "3e86dabd-0714-4f2f-9b6f-1b29a2bfef1d",
   "metadata": {},
   "outputs": [],
   "source": []
  },
  {
   "cell_type": "markdown",
   "id": "941db356-0b6c-4403-bd5d-f9af918e85e3",
   "metadata": {},
   "source": [
    "---\n",
    "## B. Inspect the satellite data"
   ]
  },
  {
   "cell_type": "markdown",
   "id": "f247489d-102b-4cb1-8436-a9485bd33c77",
   "metadata": {
    "tags": []
   },
   "source": [
    "<font color=\"green\">***B. Intro***   \n",
    "*- Raster data is one of two main types of geospatial data. The other is vector data, such as the points and polygons handled using geopandas.*    \n",
    "*- Data stored in raster format are typically in a grid/matrix structure, and render as pixels (picture elements).*      \n",
    "*- For geospatial raster data, each pixel relates to some area on Earth, and each pixel value is a measurement of some real-world phenomenon.*       \n",
    "*- The 4 files are geospatial raster datasets, and the pixel values they contain are satellite measurements of amounts of light reflected from a single band of the electromagnetic spectrum/defined range of wavelengths, i.e. spectral reflectance values.*    \n",
    "*- Specifically, each single-band raster contains measurements of either `Red` band or `Near Infrared` (NIR) reflected light.*     \n",
    "\n",
    "<font color=\"green\">***CAVEAT!! HIGH-LEVEL EXPLORATION ONLY!!***    \n",
    "*- There are differences in both `Red` and `NIR` band coverage between the two Landsat sources of the files, Landsat 5 TM and Landsat 9 OLI, which are older and new sensors respectively - see comparison table below for details extracted from the USGS band designation doc -> https://www.usgs.gov/faqs/what-are-band-designations-landsat-satellites).*    \n",
    "    \n",
    "    \n",
    "|                     | Red Band Wavelength | NIR Band Wavelength |\n",
    "| ------------------- | -------------|---------------|\n",
    "|  Landsat 5 TM|  0.63 - 0.69 |  0.76 - 0.90  |\n",
    "|  Landsat 9 OLI|  0.64 - 0.67 |  0.85 - 0.88  |\n",
    "    \n",
    "    \n",
    "<font color=\"green\">*- As the two sensors have not, therefore, collected like-for-like data, expect some limitation on the comparability of data outputs derived from these different sources.*"
   ]
  },
  {
   "cell_type": "markdown",
   "id": "58299f9c-cccf-4928-afdf-16f80375e5db",
   "metadata": {},
   "source": [
    ">**B0.** Check the dimensions of any of the 4 rasters, i.e. `ROI_1984_redband3`, `ROI_1984_nirband4`, `ROI_2022_redband4`, or `ROI_2022_nirband5`.\n",
    ">\n",
    ">**Tech Note:** The original GeoTIFF files have 3 dimensions, i.e. (<no. of bands>, <no. of rows>, <no. of columns>). However given single-band rasters the band dimension has length 1, thus we handle as a 2 dimensional array.\n",
    ">```\n",
    "ROI_1984_redband3.shape\n",
    "```"
   ]
  },
  {
   "cell_type": "code",
   "execution_count": null,
   "id": "91b8f19c-dae9-42cc-94f1-873a235159c2",
   "metadata": {
    "tags": []
   },
   "outputs": [],
   "source": []
  },
  {
   "cell_type": "markdown",
   "id": "2a693c9e-20bd-436d-b7c8-4f56fd57d51e",
   "metadata": {
    "tags": []
   },
   "source": [
    ">**B1.** Check the `dtype` of any of the rasters.\n",
    ">\n",
    ">**Tech Note:** The original data downloaded from LandsatLook has the `dtype` `uint16`. The read-in rasters are now `floats` as a result of specifying `NoData` values to be masked, i.e. converted to `NaN`. Read more on the raw satellite data, e.g. from here -> https://yceo.yale.edu/how-convert-landsat-dns-top-atmosphere-toa-reflectance\n",
    ">```\n",
    "ROI_1984_redband3.dtype\n",
    "```"
   ]
  },
  {
   "cell_type": "code",
   "execution_count": null,
   "id": "d4015f00-0953-4f69-8e91-a62afb77e2d1",
   "metadata": {
    "tags": []
   },
   "outputs": [],
   "source": []
  },
  {
   "cell_type": "markdown",
   "id": "ddeca028-10a4-4d8c-9ad0-ce09ac2b3569",
   "metadata": {
    "tags": []
   },
   "source": [
    ">**B2.** Try rendering the Red band reflectance values of the ROI in 1984 using the matplotlib `matshow()` function. Pass `\"Reds_r\"` as the optional `cmap` argument, and adjust the size and aspect of the plot (to be smaller than the default so as to be faster).\n",
    ">\n",
    ">**Tech Note:** The areas where more light was reflected (with higher spectral reflectance values) should be coloured as brighter pixels and vice versa, hence the reversed cmap `\"Reds_r\"`.\n",
    ">```\n",
    "plt.matshow(ROI_1984_redband3, cmap=\"Reds_r\")\n",
    "```"
   ]
  },
  {
   "cell_type": "code",
   "execution_count": null,
   "id": "1a6ef58f-9bce-4672-83be-bf0116047cad",
   "metadata": {
    "tags": []
   },
   "outputs": [],
   "source": []
  },
  {
   "cell_type": "markdown",
   "id": "a6aceaa3-c9cb-4d51-81c3-b5c3c85e0b85",
   "metadata": {
    "tags": []
   },
   "source": [
    "<font color=\"green\">***B2. Comment***    \n",
    "*- There is a visible orthogonal pattern that looks like the \"Fishbone\" Amazon deforestation pattern -> https://landsat.visibleearth.nasa.gov/view.php?id=145888*"
   ]
  },
  {
   "cell_type": "markdown",
   "id": "a34df098-94d9-4778-b1c8-a4118d762740",
   "metadata": {},
   "source": [
    ">**B4.** Have a look at some actual reflectance values. Extract a sample at the top-left corner of the `ROI_1984_redband3` raster, a subarray specifically the first 5 rows and 5 columns.    \n",
    ">\n",
    ">```\n",
    "ROI_1984_redband3[:5, :5]    # Reminder that 2D array indexing is in the format [<rows>, <columns>]\n",
    "```"
   ]
  },
  {
   "cell_type": "code",
   "execution_count": null,
   "id": "112113c7-e4b7-4f1b-aaed-261c2e921d34",
   "metadata": {
    "tags": []
   },
   "outputs": [],
   "source": []
  },
  {
   "cell_type": "markdown",
   "id": "289de3d3-a321-43d1-81c7-f1a0e471b2de",
   "metadata": {
    "tags": []
   },
   "source": [
    "<font color=\"green\">***B4. Comments***     \n",
    "*- Each value is the amount of Red band reflectance from a specific 30m x 30m area at the Brazil-Bolivia border that Landsat 5 TM measured on August 13th 1984.*    \n",
    "*- 30m represents the spatial resolution of our rasters, a metric indicating the ground surface area that forms a single pixel. (Satellite) sensors can have higher or lower spatial resolution, e.g. MODIS where 250m-1km squared is covered by each pixel.*"
   ]
  },
  {
   "cell_type": "markdown",
   "id": "b66be06f-d051-4c8a-bb83-54017ff12e13",
   "metadata": {},
   "source": [
    ">**B5.** Try rendering this subarray of Red band reflectance values using matplotlib's `matshow()` function.\n",
    ">```\n",
    "plt.matshow(ROI_1984_redband3[:5, :5], cmap=\"Reds_r\")\n",
    "```"
   ]
  },
  {
   "cell_type": "code",
   "execution_count": null,
   "id": "c3c0ff76-9f7e-4ba1-b3ea-7cdf37b91a7c",
   "metadata": {
    "tags": []
   },
   "outputs": [],
   "source": []
  },
  {
   "cell_type": "markdown",
   "id": "a906a141-6bab-41a8-a0ff-2e5546f6a737",
   "metadata": {},
   "source": [
    ">**B6.** (OPTIONAL) Extract and plot a subarray of `ROI_1984_redband3` values as in **B5.** but this time annotate each pixel with it's (reflectance) value.\n",
    ">```\n",
    "array = ROI_1984_redband3[:5, :5]\n",
    "fig, ax = plt.subplots(figsize=(5,5))    # Adjust the size to fit the subarray size and/or adjust the annotations in the `plt.text()` call\n",
    "ax.matshow(array, cmap=\"Reds_r\")\n",
    "for y in range(array.shape[0]):\n",
    "    for x in range(array.shape[1]):\n",
    "        plt.text(x,y,array[y,x], bbox=dict(facecolor='beige'), horizontalalignment=\"center\")\n",
    "plt.show()\n",
    "```"
   ]
  },
  {
   "cell_type": "code",
   "execution_count": null,
   "id": "780f458f-acf7-422f-b588-abf79c0a1f1d",
   "metadata": {
    "tags": []
   },
   "outputs": [],
   "source": []
  },
  {
   "cell_type": "markdown",
   "id": "432b05f4-74af-45f5-b78a-526a91dae6d0",
   "metadata": {},
   "source": [
    ">**B7.** As the area of the ROI in 1984 covered by the pixels in the top-left corner is not overly interesting (!), let's have a look at the top-right corner instead.    \n",
    "> Start by visualising a 5x5 matrix, then keep increasing the size of the row/column slices, e.g. up to 500x500.\n",
    ">```\n",
    "plt.matshow(ROI_1984_redband3[:5, -5:], cmap=\"Reds_r\")    # Use negative indices for ease\n",
    "```"
   ]
  },
  {
   "cell_type": "code",
   "execution_count": null,
   "id": "2684396f-eee9-4ff5-b676-8d2883408a5b",
   "metadata": {
    "tags": []
   },
   "outputs": [],
   "source": []
  },
  {
   "cell_type": "markdown",
   "id": "9b9abbf2-744b-4a37-b55a-32d409b0dc51",
   "metadata": {
    "nteract": {
     "transient": {
      "deleting": false
     }
    },
    "tags": []
   },
   "source": [
    "<font color=\"green\">***B7. Comment***     \n",
    "*- NASA has a (legacy) collection of satellite image showcasing interesting Agricultural Patterns -> https://earthobservatory.nasa.gov/images/6605/agricultural-patterns*"
   ]
  },
  {
   "cell_type": "markdown",
   "id": "f7fd4248-52e7-4f23-8c49-cafbbdb60833",
   "metadata": {
    "tags": []
   },
   "source": [
    "---\n",
    "## C. Prepare to calculate a spectral vegetation index"
   ]
  },
  {
   "cell_type": "markdown",
   "id": "4ad06607-48af-4b72-ad7b-180479ba9968",
   "metadata": {
    "tags": []
   },
   "source": [
    "<font color=\"green\">***C. Intro***    \n",
    "*- A Spectral Index or Ratio is an indicator of some phenomena, such as biophysical or biochemical properties, calculated using the different reflectance properties of different objects.*    \n",
    "*- Landsat data products like Burn Ratios and Moisture Index are examples of spectral indices.*    \n",
    "*- One type of spectral indices relevant to Deforestation are Vegetation Indices (VI), the most common of which is the Normalized Difference Vegetation Index (NDVI), used to quantify vegetation greenness.*    "
   ]
  },
  {
   "cell_type": "markdown",
   "id": "775c687a-5c26-411e-a926-3dad1411e1d4",
   "metadata": {},
   "source": [
    "<font color=\"green\">*- NDVI utilises certain reflectance properties of plants: chlorophyll strongly absorbs Red light, whilst leaves/plant structure strongly reflects NIR light.*      \n",
    "*- The formula to calculate NDVI therefore requires the reflectance values in the Red and NIR bands:*"
   ]
  },
  {
   "cell_type": "markdown",
   "id": "7036ee1e-d632-4aca-b63b-f5f363c5a007",
   "metadata": {},
   "source": [
    "$$\n",
    "  NDVI = \\frac{(Near Infrared - Red)}{(Near Infrared + Red)}\n",
    "$$      "
   ]
  },
  {
   "cell_type": "markdown",
   "id": "faf7e823-4b72-46d0-991f-bfa223ab35e5",
   "metadata": {},
   "source": [
    "<font color=\"green\">*- By design, NDVI values therefore range from -1.0 to +1.0. Negative values to 0 indicate no green leaves, whilst values approaching +1.0 indicate highest density of green leaves. (See NASA NDVI training, slide 10-11 -> https://appliedsciences.nasa.gov/sites/default/files/2020-11/ndvipart1.pdf)*        \n",
    "*- In Section D. we will calculate NDVI values for our ROI to help detect how the existing tropical dry forest cover in 1984 had changed by 2022, as likely Deforestation.*     \n",
    "*- Note that NDVI is often a pre-calculated data product, and is available from the LandsatLook portal - however for learning purposes we will construct our own.*"
   ]
  },
  {
   "cell_type": "markdown",
   "id": "b8049b8e-b10d-4283-a466-3daa2e9e2a50",
   "metadata": {},
   "source": [
    ">**C0.** In advance of calculating NDVI values using the above raster math formula, render the Red and NIR rasters of the ROI from 2022 as subplots.\n",
    ">\n",
    ">**Code Detail:** Use functionality provided by xarray via the `robust` parameter to compute plot colour limits excluding outliers, i.e. using the 2nd and 98th percentiles of the data -> https://docs.xarray.dev/en/stable/user-guide/plotting.html#robust\n",
    ">```\n",
    "fig, ax = plt.subplots(1,2, figsize=(14,5))\n",
    "ax[0].matshow(ROI_1984_redband3, cmap=\"Reds_r\")\n",
    "ax[1].matshow(ROI_1984_nirband4, cmap=\"Blues_r\")\n",
    "plt.show()\n",
    "```"
   ]
  },
  {
   "cell_type": "code",
   "execution_count": null,
   "id": "507d0176-c2e5-4652-b352-cefe63caa21a",
   "metadata": {
    "tags": []
   },
   "outputs": [],
   "source": []
  },
  {
   "cell_type": "markdown",
   "id": "ffcfc0ac-d57f-4bfb-bdc7-70209d1ba04c",
   "metadata": {},
   "source": [
    "---\n",
    "## D. Calculate Normalized Difference Vegetation Index (NDVI)"
   ]
  },
  {
   "cell_type": "markdown",
   "id": "295fd73e-c42c-4f66-9b69-256afe9a88c5",
   "metadata": {},
   "source": [
    ">**D0.** Calculate NDVI values for the ROI in 1984 by performing the required raster math with `ROI_1984_nirband4` and `ROI_1984_redband3`, and assign to `NDVI_1984`.\n",
    ">```\n",
    "NDVI_1984 = (ROI_1984_nirband4 - ROI_1984_redband3) / (ROI_1984_nirband4 + ROI_1984_redband3)\n",
    "```"
   ]
  },
  {
   "cell_type": "code",
   "execution_count": null,
   "id": "3996873a-2364-438f-b280-ffc20115c06a",
   "metadata": {
    "tags": []
   },
   "outputs": [],
   "source": []
  },
  {
   "cell_type": "markdown",
   "id": "7f2ebff3-4198-4e4f-97bc-880a67e3fa11",
   "metadata": {},
   "source": [
    ">**D1.** Sense-check some of the `NDVI_1984` values, must be between -1.0 and +1.0.\n",
    ">```\n",
    "NDVI_1984[:2, :2]\n",
    "```"
   ]
  },
  {
   "cell_type": "code",
   "execution_count": null,
   "id": "36cf206a-89c2-4d14-9180-895d9ccc6c7f",
   "metadata": {
    "tags": []
   },
   "outputs": [],
   "source": []
  },
  {
   "cell_type": "markdown",
   "id": "0d97a1bc-5bef-4ece-af8f-a8fd2ed10e29",
   "metadata": {},
   "source": [
    ">**D2.** Calculate NDVI values for the ROI in 2022 by performing the required raster math with `ROI_2022_nirband4` and `ROI_2022_redband3`, and assign to `NDVI_2022`.\n",
    ">```\n",
    "NDVI_2022 = (ROI_2022_nirband5 - ROI_2022_redband4) / (ROI_2022_nirband5 + ROI_2022_redband4)\n",
    "```"
   ]
  },
  {
   "cell_type": "code",
   "execution_count": null,
   "id": "135c398d-16c3-4a43-8527-649800589e3b",
   "metadata": {
    "tags": []
   },
   "outputs": [],
   "source": []
  },
  {
   "cell_type": "markdown",
   "id": "2576ab98-abe8-4688-8586-00cdc600e944",
   "metadata": {},
   "source": [
    ">**D3.** Also sense-check some of the `NDVI_2022` values.\n",
    ">```\n",
    "NDVI_2022[:2, :2]\n",
    "```"
   ]
  },
  {
   "cell_type": "code",
   "execution_count": null,
   "id": "95cb9ed3-a3d2-4319-b68b-9dc71a45f20e",
   "metadata": {
    "tags": []
   },
   "outputs": [],
   "source": []
  },
  {
   "cell_type": "markdown",
   "id": "d3f6b9ab-eb11-4800-ab4b-345fff0e9d81",
   "metadata": {
    "tags": []
   },
   "source": [
    ">**D4.** (OPTIONAL) Export NDVI arrays as binary files in numpy `.npy` format. Use `np.load()` to read.\n",
    ">```\n",
    "np.save(\"NDVI_1984\", NDVI_1984)\n",
    "np.save(\"NDVI_2022\", NDVI_2022)\n",
    "```"
   ]
  },
  {
   "cell_type": "code",
   "execution_count": null,
   "id": "b7826e79-392f-443d-89b7-c98978ab49bd",
   "metadata": {},
   "outputs": [],
   "source": []
  },
  {
   "cell_type": "markdown",
   "id": "fefefec8-441d-4a73-9cf8-9fedda3693a8",
   "metadata": {},
   "source": [
    "---\n",
    "## E. Create & Interpret NDVI maps"
   ]
  },
  {
   "cell_type": "markdown",
   "id": "ac3936cc-b249-49fe-b4f6-498a17952820",
   "metadata": {},
   "source": [
    ">**E0.** The NDVI datasets are still geospatial rasters, i.e. grids of pixels, and still each linked to 30 square meters on Earth. However, the value of these pixels indicate the density of green leaves covering that place on Earth, on a scale of -1.0 to +1.0, (i.e. not measurements of spectral reflectance). Let's therefore render both NDVI rasters to help discover how dense vegetation was in our ROI in 1984 compared to 2022.\n",
    "\n",
    ">**Code Detail:** Use manually pre-calculated `vmin` and `vmax` args to scale the (false) color to the actual range of our NDVI values.\n",
    ">```\n",
    "fig, ax  = plt.subplots(1,2, figsize=(14,5))\n",
    "plot0 = ax[0].matshow(NDVI_1984, cmap=\"terrain_r\", vmin=-0.15, vmax=0.75)\n",
    "fig.colorbar(plot0, ax=ax[0])\n",
    "plot1 =ax[1].matshow(NDVI_2022, cmap=\"terrain_r\", vmin=-0.15, vmax=0.75)\n",
    "fig.colorbar(plot1, ax=ax[1])\n",
    "plt.show()\n",
    "```"
   ]
  },
  {
   "cell_type": "code",
   "execution_count": null,
   "id": "aac3df05-fbcb-4368-b574-a99ead522571",
   "metadata": {
    "tags": []
   },
   "outputs": [],
   "source": []
  },
  {
   "cell_type": "markdown",
   "id": "f623cb1d-25b1-4b8b-a92a-8cdbfdf645b7",
   "metadata": {},
   "source": [
    "<font color=\"green\">***E0. Comments***    \n",
    "*- **CAVEAT REMINDER!!** The difference in Landsat 5 TM and Landsat 9 OLI's band coverage affects the comparability of the respective NDVI computed, as derivative data products.*    \n",
    "*- However, these NDVI maps do provide guidance about the potential LCLU in this Amazon River basin region in 1984 and 2022:*    \n",
    " \n",
    "*\"Areas of barren rock, sand, or snow usually show very low NDVI values (for example, 0.1 or less). Sparse vegetation such as shrubs and grasslands or senescing crops may result in moderate NDVI values (approximately 0.2 to 0.5). High NDVI values (approximately 0.6 to 0.9) correspond to dense vegetation such as that found in temperate and tropical forests or crops at their peak growth stage.\"* (https://www.usgs.gov/special-topics/remote-sensing-phenology/science/ndvi-foundation-remote-sensing-phenology)\n",
    "\n",
    "<font color=\"green\">*- Other Remote Sensing considerations: Controlling for satellite band designations, spectral reflectance and therefore also derived products like spectral indices, are sensitive to different angles of observation and differences in the atmostphere during the two satellite overpasses, amongst many other factors.*"
   ]
  },
  {
   "cell_type": "markdown",
   "id": "2031257d-bbc4-4722-b567-125e7a9127c9",
   "metadata": {},
   "source": [
    ">**E1.** So far in this Exploration we've been handling continuous raster data. However, in preparation for developing a thematic Land Cover map next section, let's start to consider how we could meaningfully group, or bin, pixels into NDVI ranges associated with specific land cover. Check the distribution of both sets of NDVI values through quick histogram plotting. \n",
    ">```\n",
    "plt.figure()\n",
    "plt.hist(NDVI_1984.flatten(), color=\"royalblue\")\n",
    "plt.hist(NDVI_2022.flatten(), color=\"m\", alpha=0.5);   # The semi-colon tidies the plot by suppresses some extraneous info\n",
    "```"
   ]
  },
  {
   "cell_type": "code",
   "execution_count": null,
   "id": "a8b32a85-785d-4721-8f76-8de1d77b4e22",
   "metadata": {
    "tags": []
   },
   "outputs": [],
   "source": []
  },
  {
   "cell_type": "markdown",
   "id": "3b4edf60-2959-4238-ba42-d0b282a4a011",
   "metadata": {},
   "source": [
    "---\n",
    "## F. Classify Land Cover using NDVI & make thematic map"
   ]
  },
  {
   "cell_type": "markdown",
   "id": "05bab055-b738-462d-a730-a6252a328c10",
   "metadata": {},
   "source": [
    "<font color=\"green\">***F. Intro***    \n",
    "*- LEARNING NOTE: This section is designed to **introduce** the idea of pixel-based Image Classification of Land Cover using Satellite Imagery in order to create thematic maps, and **does not represent best-practice**! Check out NASA training material on this topic, e.g. -> https://appliedsciences.nasa.gov/sites/default/files/Session%20One%20-%20Introduction%20to%20Land%20Cover%20Classification%20and%20QGIS.pdf*      \n",
    "*- We will be executing an experimental process, trying to develop a meaningful thematic Land Cover map of our ROI in 2022, leveraging known NDVI values of certain land cover, and the distribution of empirical NDVI values.*      \n",
    "*- Central to this process is performing pixel-based classification. We will have a go at producing a map that describes 4 land cover types, by implementing the below experimental classification scheme whereby every pixel will be assigned a class, based on it's NDVI value:*\n",
    "\n",
    "> \n",
    "|       Class                   | NDVI   | \n",
    "| ----------------------------- | ------ |\n",
    "| Rock/Bare Soil/Water/Concrete | -1.0 <= NDVI < 0.15 |\n",
    "| Sparse/Senescing Veg1         | 0.15 <= NDVI < 0.25 |\n",
    "| Sparse/Senescing Veg2         | 0.25 <= NDVI < 0.4  |\n",
    "| Denser Veg                    | 0.4  <= NDVI <= 1.0 |\n",
    ">\n"
   ]
  },
  {
   "cell_type": "markdown",
   "id": "795c7cde-90b6-4e50-a3c7-0cce9d9f6723",
   "metadata": {},
   "source": [
    ">**F0.** Check the type of the `NDVI_2022` object.\n",
    ">```\n",
    "type(NDVI_2022)\n",
    "```"
   ]
  },
  {
   "cell_type": "code",
   "execution_count": null,
   "id": "7e2763bc-b3eb-47bb-857c-16d6fdaf0171",
   "metadata": {
    "tags": []
   },
   "outputs": [],
   "source": []
  },
  {
   "cell_type": "markdown",
   "id": "d11fdd9a-8e6f-4fcb-bade-be5430d90fc7",
   "metadata": {},
   "source": [
    ">**F1.** Make a copy of `NDVI_2022` named `LCLU`.\n",
    ">```\n",
    "LCLU = NDVI_2022.copy()\n",
    "```"
   ]
  },
  {
   "cell_type": "code",
   "execution_count": null,
   "id": "62770fc7-2791-4a9d-a9b3-f58e960dfeb3",
   "metadata": {
    "tags": []
   },
   "outputs": [],
   "source": []
  },
  {
   "cell_type": "markdown",
   "id": "4ecf2a88-e242-4235-903f-82b3782e6890",
   "metadata": {},
   "source": [
    ">**F2.** Our approach to implementing the pixel classification involves manually binning the subset of pixels that belong in each class (so the process is more transparent).  Try calling numpy's `where()` function in order to test replacing the NDVI values in `LCLU` which are `< 0.3` with `99`.\n",
    ">```\n",
    "np.where(LCLU < 0.3, 99, LCLU)\n",
    "```"
   ]
  },
  {
   "cell_type": "code",
   "execution_count": null,
   "id": "3743aa67-d05e-4a1f-832a-21a0f044a456",
   "metadata": {
    "tags": []
   },
   "outputs": [],
   "source": []
  },
  {
   "cell_type": "markdown",
   "id": "a00a904a-97c8-4ea5-9a2a-1c935d16123c",
   "metadata": {},
   "source": [
    ">**F3.** Build the final array, `LCLU_4`, through creating a series of incrementally updated arrays, that replace the pixel values assigned to each class with `100`, `200`, `300`, and `400` respectively.\n",
    ">\n",
    ">**Tech Note:**    \n",
    ">1.0 <= NDVI <0.15 becomes 100 - Rock/Bare Soil/Water/Concrete class    \n",
    ">0.15 <= NDVI <0.25 becomes 200 - Sparse/Senescing Veg1 class    \n",
    ">0.25 <= NDVI <0.4 becomes 300 - Sparse/Senescing Veg2 class     \n",
    ">0.4 <= NDVI <=1.0 becomes 400 - Denser Veg  class    \n",
    ">```\n",
    "LCLU_1 = np.where(LCLU < 0.15, 100, LCLU)\n",
    "LCLU_2 = np.where(LCLU_1 < 0.25, 200, LCLU_1)\n",
    "LCLU_3 = np.where(LCLU_2 < 0.4, 300, LCLU_2)\n",
    "LCLU_4 = np.where(LCLU_3 <= 1, 400, LCLU_3)\n",
    "```"
   ]
  },
  {
   "cell_type": "code",
   "execution_count": null,
   "id": "6311a690-094f-41e7-8c53-c10484c7a793",
   "metadata": {
    "tags": []
   },
   "outputs": [],
   "source": []
  },
  {
   "cell_type": "markdown",
   "id": "0614d84f-d13d-45e8-bce8-0aac67437718",
   "metadata": {},
   "source": [
    ">**F4.** Review the fully classified raster `LCLU_4`, representing our Land Cover map, by generating a quick plot.\n",
    ">```\n",
    "LCLU_4_plot = plt.matshow(LCLU_4)\n",
    "fig.colorbar(LCLU_4_plot)\n",
    "plt.show()\n",
    "```"
   ]
  },
  {
   "cell_type": "code",
   "execution_count": null,
   "id": "ef7d49c1-7140-443d-859f-92a908771b9d",
   "metadata": {
    "tags": []
   },
   "outputs": [],
   "source": []
  },
  {
   "cell_type": "markdown",
   "id": "de7a7699-0ae1-44a7-a4b0-72ae1c69c54c",
   "metadata": {},
   "source": [
    ">**F5.** Let's prepare to construct an upgraded version of this Land Cover map. Import the `ListedColormap` class from matplotlib.colors.\n",
    ">```\n",
    "from matplotlib.colors import ListedColormap\n",
    "```"
   ]
  },
  {
   "cell_type": "code",
   "execution_count": null,
   "id": "5608f481-b86d-4053-bf63-0614e7a2437b",
   "metadata": {
    "tags": []
   },
   "outputs": [],
   "source": []
  },
  {
   "cell_type": "markdown",
   "id": "6974fb9a-c785-4294-9906-78a8646236ef",
   "metadata": {},
   "source": [
    ">**F6.** Create a custom cmap consisting of 4 appropriate named colours called `LCLU_cmap`. The colours will be used in turn, starting from the lowest data values then ascending, i.e. 100 to 400.\n",
    "```\n",
    "LCLU_cmap = ListedColormap( [\"sandybrown\", \"gold\", \"yellowgreen\", \"forestgreen\"] )\n",
    "```"
   ]
  },
  {
   "cell_type": "code",
   "execution_count": null,
   "id": "4b31a6c5-3e03-4ae9-9a20-ff27c91b2a67",
   "metadata": {
    "tags": []
   },
   "outputs": [],
   "source": []
  },
  {
   "cell_type": "markdown",
   "id": "c266709e-97e8-4111-9794-c70abdb47062",
   "metadata": {},
   "source": [
    ">**F7.** Make the upgraded Land Cover map of the ROI from 2022, using `LCLU_cmap` and other matplotlib options to fine-tune the plot.\n",
    ">```\n",
    "fig, ax = plt.subplots(figsize=(8,6))\n",
    "classed_plot = ax.matshow(LCLU_4, cmap=LCLU_cmap)\n",
    "cbar = fig.colorbar(classed_plot)\n",
    "cbar.set_ticks([100,200,300,400])\n",
    "cbar.set_ticklabels([\"Rock/Bare Soil/Water/Concrete\", \"Sparse/Senescing Veg1\", \"Sparse/Senescing Veg2\", \"Denser Veg\"])\n",
    "#plt.tight_layout()\n",
    "#plt.savefig(\"<SomeFilename>.png\", dpi=600)\n",
    "plt.show()\n",
    "```"
   ]
  },
  {
   "cell_type": "code",
   "execution_count": null,
   "id": "b29aa298-4815-4d99-8b4e-e2911118d6d1",
   "metadata": {},
   "outputs": [],
   "source": []
  }
 ],
 "metadata": {
  "kernelspec": {
   "display_name": "Python 3 (ipykernel)",
   "language": "python",
   "name": "python3"
  },
  "language_info": {
   "codemirror_mode": {
    "name": "ipython",
    "version": 3
   },
   "file_extension": ".py",
   "mimetype": "text/x-python",
   "name": "python",
   "nbconvert_exporter": "python",
   "pygments_lexer": "ipython3",
   "version": "3.11.6"
  },
  "nteract": {
   "version": "0.28.0"
  }
 },
 "nbformat": 4,
 "nbformat_minor": 5
}
