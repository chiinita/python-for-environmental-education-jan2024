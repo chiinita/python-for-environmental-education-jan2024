{
 "cells": [
  {
   "cell_type": "markdown",
   "id": "3b6c8474-5d15-4234-9e2b-045ec8103557",
   "metadata": {},
   "source": [
    "# GeoSpatial 0: Trying out some pandas basics\n",
    "---"
   ]
  },
  {
   "cell_type": "markdown",
   "id": "cadf67c7-2d5a-4c84-b66b-3e8bcce8e1c3",
   "metadata": {
    "tags": []
   },
   "source": [
    "## A. Set-up Jupyter Notebook & time series dataset"
   ]
  },
  {
   "cell_type": "markdown",
   "id": "44669c29-e133-41e0-a9d0-ae016f396e67",
   "metadata": {},
   "source": [
    "> **A0.** Import the third-party packages pandas, numpy, and the matplotlib.pyplot submodule with conventional aliases.\n",
    ">```\n",
    "import pandas as pd\n",
    "import numpy as np\n",
    "import matplotlib.pyplot as plt\n",
    "```"
   ]
  },
  {
   "cell_type": "code",
   "execution_count": null,
   "id": "a23b126f-cce0-4fc3-8fb7-a4fedb2da7e1",
   "metadata": {},
   "outputs": [],
   "source": []
  },
  {
   "cell_type": "markdown",
   "id": "8ae45700-d71e-44e5-9c48-7b64d7c6ac0a",
   "metadata": {},
   "source": [
    ">**A1.** For autocompletion, or if it's not working, try running this magic command. \n",
    ">```\n",
    "%config Completer.use_jedi = False\n",
    "```"
   ]
  },
  {
   "cell_type": "code",
   "execution_count": null,
   "id": "57a817a9-03e1-4eb4-9f03-d6e7c9df7df4",
   "metadata": {},
   "outputs": [],
   "source": []
  },
  {
   "cell_type": "markdown",
   "id": "9f95e1a9-aeaf-49df-96aa-e8a1823b1144",
   "metadata": {},
   "source": [
    ">**A2.** Read-in the dataset `\"Py4EE_GeoSpatial0_data.csv\"`, and assign to `raw_data`. \n",
    ">```\n",
    "raw_data = pd.read_csv(\"Py4EE_GeoSpatial0_data.csv\")\n",
    "```"
   ]
  },
  {
   "cell_type": "code",
   "execution_count": null,
   "id": "a084da3b-140c-4cfc-9dcb-5a1e28956872",
   "metadata": {},
   "outputs": [],
   "source": []
  },
  {
   "cell_type": "markdown",
   "id": "c9b056ba-7659-4e04-b64e-dd8770a23bbf",
   "metadata": {},
   "source": [
    ">**A3.** Make a copy of `raw_data` called `df`.\n",
    ">```\n",
    "df = raw_data.copy()\n",
    "```"
   ]
  },
  {
   "cell_type": "code",
   "execution_count": null,
   "id": "158112f8-99dc-4e21-9ece-4bc7d01959e1",
   "metadata": {},
   "outputs": [],
   "source": []
  },
  {
   "cell_type": "markdown",
   "id": "90cb4670-9579-4b74-a1ca-b689f3333436",
   "metadata": {
    "tags": []
   },
   "source": [
    "---\n",
    "## B. Inspect the data"
   ]
  },
  {
   "cell_type": "markdown",
   "id": "66e2c895-7989-4b73-aa34-46fd370695d5",
   "metadata": {},
   "source": [
    ">**B0.** Have a look at the `DataFrame`, using `head()` to display the first 5 rows.\n",
    ">```\n",
    "df.head()\n",
    "```"
   ]
  },
  {
   "cell_type": "code",
   "execution_count": null,
   "id": "e64c335b-5340-4991-82e2-15f7c24fea02",
   "metadata": {
    "tags": []
   },
   "outputs": [],
   "source": []
  },
  {
   "cell_type": "markdown",
   "id": "d8e8e870-005a-4f5d-be4c-d94d81ab54d5",
   "metadata": {},
   "source": [
    ">**B1.** Now try using `tail()` to display the last 5 rows.\n",
    ">```\n",
    "df.tail()\n",
    "```"
   ]
  },
  {
   "cell_type": "code",
   "execution_count": null,
   "id": "accc0b98-c519-447b-a192-0a4bd6e17ea9",
   "metadata": {},
   "outputs": [],
   "source": []
  },
  {
   "cell_type": "markdown",
   "id": "accdaa36-0f48-42b8-a7a9-1a7b53ea62f1",
   "metadata": {},
   "source": [
    ">**B2.** Find out the dimensions of `df`, i.e. the number of rows and columns in the `DataFrame`.\n",
    ">```\n",
    "df.shape\n",
    "```"
   ]
  },
  {
   "cell_type": "code",
   "execution_count": null,
   "id": "96fc07d1-ac16-494b-beac-7cfc673bbde1",
   "metadata": {
    "tags": []
   },
   "outputs": [],
   "source": []
  },
  {
   "cell_type": "markdown",
   "id": "6fff8ea6-e1f9-4bce-83ee-29bd91572a7a",
   "metadata": {},
   "source": [
    "<font color='green'>***B2. Interpretation***    \n",
    "*- This dataset has 123 rows and 13 columns.*"
   ]
  },
  {
   "cell_type": "markdown",
   "id": "57e75c1a-38ea-4897-b6b6-ea96db268dd9",
   "metadata": {},
   "source": [
    ">**B3.** See what type of data (`dtype`) pandas inferred was in each column when it originally read-in the `Py4EE_GeoSpatial0_Data.csv`.\n",
    ">```\n",
    "df.dtypes\n",
    "```"
   ]
  },
  {
   "cell_type": "code",
   "execution_count": null,
   "id": "7ebfd687-3427-4685-8688-1cb706ae4ce7",
   "metadata": {
    "tags": []
   },
   "outputs": [],
   "source": []
  },
  {
   "cell_type": "markdown",
   "id": "e2cf9709-f854-494a-85a8-21ed947bbead",
   "metadata": {
    "tags": []
   },
   "source": [
    ">**B4.** Try selecting a single column with a specific name. \n",
    ">```\n",
    "df[\"2022\"]\n",
    "```"
   ]
  },
  {
   "cell_type": "code",
   "execution_count": null,
   "id": "e57a8af6-81c7-492f-83d4-4d7eba3bac5e",
   "metadata": {},
   "outputs": [],
   "source": []
  },
  {
   "cell_type": "markdown",
   "id": "809cf414-5620-4b28-967b-4cd744079536",
   "metadata": {},
   "source": [
    ">**B5.** Now try selecting multiple columns with specific names. \n",
    ">```\n",
    "df[[\"2011\", \"2015\", \"2022\"]]\n",
    "```"
   ]
  },
  {
   "cell_type": "code",
   "execution_count": null,
   "id": "e139ec8f-b999-478d-8fd6-f85cff13f8fb",
   "metadata": {},
   "outputs": [],
   "source": []
  },
  {
   "cell_type": "markdown",
   "id": "98bc8b83-dbbc-4756-9e20-486f67b34a23",
   "metadata": {},
   "source": [
    ">**B6.** Have a look at the first column in `df`, using `iloc.`\n",
    ">```\n",
    "df.iloc[ : , 0]\n",
    "```"
   ]
  },
  {
   "cell_type": "code",
   "execution_count": null,
   "id": "b6a4fb62-48d6-4e02-978a-706adf275992",
   "metadata": {
    "tags": []
   },
   "outputs": [],
   "source": []
  },
  {
   "cell_type": "markdown",
   "id": "a7bd48d2-5cdb-492b-9210-78631b8d5ba4",
   "metadata": {},
   "source": [
    ">**B7.** Let's use the `rename()` method to rename the `\"GHGRP_ID\"` column to `\"ID\"`.\n",
    ">```\n",
    "df.rename(columns = {\"GHGRP_ID\" : \"ID\"})\n",
    "```"
   ]
  },
  {
   "cell_type": "code",
   "execution_count": null,
   "id": "28cec068-ccf2-4faa-961d-331494a29db0",
   "metadata": {},
   "outputs": [],
   "source": []
  },
  {
   "cell_type": "markdown",
   "id": "7ba30acb-5a33-462e-b92e-7a1a1cec81b8",
   "metadata": {},
   "source": [
    ">**B8.** Have a look at `df` again to check the column names. \n",
    ">```\n",
    "df\n",
    "```"
   ]
  },
  {
   "cell_type": "code",
   "execution_count": null,
   "id": "6179815e-9f42-4437-aff6-ff68bba65e74",
   "metadata": {},
   "outputs": [],
   "source": []
  },
  {
   "cell_type": "markdown",
   "id": "0c7defe9-dba2-4c1d-8a4b-0ed6381d6e2f",
   "metadata": {},
   "source": [
    ">**B9.** Re-create the value from `B7.` but this time assign it to the variable `df`.\n",
    ">```\n",
    "df = df.rename(columns = {\"GHGRP_ID\" : \"ID\"})\n",
    "```"
   ]
  },
  {
   "cell_type": "code",
   "execution_count": null,
   "id": "24b23264-18ef-4c99-bee1-61fec22948e9",
   "metadata": {},
   "outputs": [],
   "source": []
  },
  {
   "cell_type": "markdown",
   "id": "2d055722-4d36-4e26-a376-18d5b1273b36",
   "metadata": {},
   "source": [
    ">**B10.** Now check `df` again.\n",
    ">```\n",
    "df\n",
    "```"
   ]
  },
  {
   "cell_type": "code",
   "execution_count": null,
   "id": "f1e38660-f848-4dfb-a76a-d912d6ec8a8b",
   "metadata": {},
   "outputs": [],
   "source": []
  },
  {
   "cell_type": "markdown",
   "id": "491eaf14-e715-40c9-bd89-0e5594ffe662",
   "metadata": {},
   "source": [
    ">**B11.** Try using the `plot()` method to visualise `df`.\n",
    ">```\n",
    "df.plot()\n",
    "```"
   ]
  },
  {
   "cell_type": "code",
   "execution_count": null,
   "id": "de3b4103-d00b-413e-b83d-bb9cdbf63ed3",
   "metadata": {
    "tags": []
   },
   "outputs": [],
   "source": []
  },
  {
   "cell_type": "markdown",
   "id": "f9475fb8-3d3f-4528-9ebc-5eb92868e4a7",
   "metadata": {},
   "source": [
    ">**B12.** Let's set the `\"ID\"` column as the index (row labels) of the `df`. Remember the index of a DataFrame is a series of labels that identify each row.\n",
    ">```\n",
    "df.set_index(\"ID\", inplace=True)\n",
    "```"
   ]
  },
  {
   "cell_type": "code",
   "execution_count": null,
   "id": "f13c55db-49a7-44b3-b352-1e5ed23fa7c5",
   "metadata": {},
   "outputs": [],
   "source": []
  },
  {
   "cell_type": "markdown",
   "id": "d1626892-a86c-435b-8ae9-2d8397fb810b",
   "metadata": {},
   "source": [
    ">**B13.** Now try transposing `df` via it's `T` property.\n",
    ">```\n",
    "df.T\n",
    "```"
   ]
  },
  {
   "cell_type": "code",
   "execution_count": null,
   "id": "a13a9d19-fbfb-4800-a47c-6d34ac40ef26",
   "metadata": {},
   "outputs": [],
   "source": []
  },
  {
   "cell_type": "markdown",
   "id": "04a33a7b-f8f4-4667-ad73-bce63eb69abb",
   "metadata": {
    "tags": []
   },
   "source": [
    ">**B14.** Now create a time series line plot of `df` using the transposed DataFrame and using the `legend` keyword to not place a legend on the plot. \n",
    ">```\n",
    "df.T.plot(legend=False)\n",
    "```"
   ]
  },
  {
   "cell_type": "code",
   "execution_count": null,
   "id": "e420ce23-c56c-4dae-9658-ec1ddc86b3b0",
   "metadata": {
    "tags": []
   },
   "outputs": [],
   "source": []
  },
  {
   "cell_type": "markdown",
   "id": "009663d5-181d-409f-9a6c-9348741d333f",
   "metadata": {},
   "source": [
    ">**B15.** Let's focus on the last 5 years of this time series, i.e. 2018-2022 inclusive. Perform integer slicing with `iloc` to return a subset of `df`.\n",
    ">```\n",
    "df.iloc[ : , -5: ]\n",
    "```"
   ]
  },
  {
   "cell_type": "code",
   "execution_count": null,
   "id": "dc8a3c80-230a-4c89-ab07-a4d48b6b222f",
   "metadata": {},
   "outputs": [],
   "source": []
  },
  {
   "cell_type": "markdown",
   "id": "5254359d-5f4e-42fc-aa60-00c8ce20075c",
   "metadata": {},
   "source": [
    ">**B16.** Let's assign this `df` subset of the last 5 years of data to a new variable `recent_df`.\n",
    ">```\n",
    "recent_df = df.iloc[ : , -5: ]\n",
    "```"
   ]
  },
  {
   "cell_type": "code",
   "execution_count": null,
   "id": "da00c5a1-bb9f-440e-b87b-562ad20da543",
   "metadata": {
    "tags": []
   },
   "outputs": [],
   "source": []
  },
  {
   "cell_type": "markdown",
   "id": "4683b185-bb8e-4a05-8823-530e373eb683",
   "metadata": {},
   "source": [
    ">**B17.** Let's create a new column in `recent_df` called `\"Cumulative\"` that contains the sum of the values in the 5 current columns.\n",
    ">```\n",
    "recent_df[\"Cumulative\"] = recent_df.sum(axis=1)\n",
    "```"
   ]
  },
  {
   "cell_type": "code",
   "execution_count": null,
   "id": "013180ec-2f7c-44f5-96c4-0830675e4253",
   "metadata": {
    "tags": []
   },
   "outputs": [],
   "source": []
  },
  {
   "cell_type": "markdown",
   "id": "d82ad27b-00b8-4c3b-a410-55d2aea54550",
   "metadata": {},
   "source": [
    ">**B18.** Check `recent_df` for the modification.\n",
    ">```\n",
    "recent_df\n",
    ">"
   ]
  },
  {
   "cell_type": "code",
   "execution_count": null,
   "id": "1fbad4cf-df78-4365-a1e0-00ab4bd05ace",
   "metadata": {},
   "outputs": [],
   "source": []
  },
  {
   "cell_type": "markdown",
   "id": "7f45ba66-d3c4-4e02-8663-905fa233eb6e",
   "metadata": {},
   "source": [
    ">**B19.** Let's drop the individual year columns from `recent_df` so it just has the row labels (index), `\"ID\"`, and the new `\"Cumulative\"` column. Perform the operation `inplace`. \n",
    ">```\n",
    "recent_df.drop(columns = recent_df.columns[[0,1,2,3,4]], inplace=True)\n",
    ">"
   ]
  },
  {
   "cell_type": "code",
   "execution_count": null,
   "id": "4d8945eb-cd7c-4a3b-897b-e4a4c69bb608",
   "metadata": {},
   "outputs": [],
   "source": []
  },
  {
   "cell_type": "markdown",
   "id": "65048cfb-5dd7-4cda-bd7f-787dc14f2e72",
   "metadata": {},
   "source": [
    ">**B20.** Check the modified `recent_df`.\n",
    ">```\n",
    "recent_df\n",
    ">"
   ]
  },
  {
   "cell_type": "code",
   "execution_count": null,
   "id": "decbc1cf-406c-4ed8-b23c-08f1dfd5d551",
   "metadata": {},
   "outputs": [],
   "source": []
  },
  {
   "cell_type": "markdown",
   "id": "91ede1c0-06a2-4e1b-a5f5-bdd2c2eefc46",
   "metadata": {},
   "source": [
    ">**B21.** Finally, sort the `\"Cumulative\"` column from high to low to see which row in `recent_df` has the largest 5-year sum. \n",
    ">```\n",
    "recent_df.sort_values(\"Cumulative\", ascending=False)\n",
    ">"
   ]
  },
  {
   "cell_type": "code",
   "execution_count": null,
   "id": "c07e8923-f2fa-4900-b349-a11cab503b9b",
   "metadata": {},
   "outputs": [],
   "source": []
  }
 ],
 "metadata": {
  "kernelspec": {
   "display_name": "Python 3 (ipykernel)",
   "language": "python",
   "name": "python3"
  },
  "language_info": {
   "codemirror_mode": {
    "name": "ipython",
    "version": 3
   },
   "file_extension": ".py",
   "mimetype": "text/x-python",
   "name": "python",
   "nbconvert_exporter": "python",
   "pygments_lexer": "ipython3",
   "version": "3.11.6"
  },
  "nteract": {
   "version": "0.28.0"
  }
 },
 "nbformat": 4,
 "nbformat_minor": 5
}
